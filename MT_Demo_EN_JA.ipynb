{
  "nbformat": 4,
  "nbformat_minor": 0,
  "metadata": {
    "colab": {
      "provenance": [],
      "authorship_tag": "ABX9TyNHLroM/FdmdcHMvYEE2PrH",
      "include_colab_link": true
    },
    "kernelspec": {
      "name": "python3",
      "display_name": "Python 3"
    },
    "language_info": {
      "name": "python"
    }
  },
  "cells": [
    {
      "cell_type": "markdown",
      "metadata": {
        "id": "view-in-github",
        "colab_type": "text"
      },
      "source": [
        "<a href=\"https://colab.research.google.com/github/prashant-zo/nmt-demo-en-ja/blob/main/MT_Demo_EN_JA.ipynb\" target=\"_parent\"><img src=\"https://colab.research.google.com/assets/colab-badge.svg\" alt=\"Open In Colab\"/></a>"
      ]
    },
    {
      "cell_type": "code",
      "source": [
        "!pip install transformers[sentencepiece]"
      ],
      "metadata": {
        "id": "w9BsHcjeocaE"
      },
      "execution_count": null,
      "outputs": []
    },
    {
      "cell_type": "code",
      "source": [
        "pip install sacremoses"
      ],
      "metadata": {
        "id": "lXZcPmDkrOZc"
      },
      "execution_count": null,
      "outputs": []
    },
    {
      "cell_type": "code",
      "source": [
        "from transformers import MBartForConditionalGeneration, MBart50TokenizerFast\n",
        "\n",
        "# Specify the model name (mBART multilingual many-to-many model)\n",
        "model_name = \"facebook/mbart-large-50-many-to-many-mmt\"\n",
        "\n",
        "# Load tokenizer and model\n",
        "tokenizer = MBart50TokenizerFast.from_pretrained(model_name)\n",
        "model = MBartForConditionalGeneration.from_pretrained(model_name)\n",
        "\n",
        "# Set the source and target languages\n",
        "tokenizer.src_lang = \"en_XX\"  # English\n",
        "tokenizer.tgt_lang = \"ja_XX\"  # Japanese\n",
        "\n",
        "# Define the English sentences you want to translate\n",
        "src_text = [\n",
        "    \"Hello, how are you?\",\n",
        "    \"This is a test sentence for translation.\",\n",
        "    \"Sony is a global leader in technology and entertainment.\"\n",
        "]\n",
        "\n",
        "# Tokenize the input texts\n",
        "encoded = tokenizer(src_text, return_tensors=\"pt\", padding=True)\n",
        "\n",
        "# Generate translations.\n",
        "# forced_bos_token_id makes sure the output starts with the target language token.\n",
        "generated_tokens = model.generate(\n",
        "    **encoded,\n",
        "    forced_bos_token_id=tokenizer.lang_code_to_id[\"ja_XX\"],\n",
        "    max_length=256,\n",
        "    num_beams=5,\n",
        "    early_stopping=True\n",
        ")\n",
        "\n",
        "# Decode the generated tokens into strings\n",
        "translations = tokenizer.batch_decode(generated_tokens, skip_special_tokens=True)\n",
        "\n",
        "# Print out the translations\n",
        "print(\"--- English → Japanese Translations (mBART) ---\")\n",
        "for original, translated in zip(src_text, translations):\n",
        "    print(f\"Original:   {original}\")\n",
        "    print(f\"Translated: {translated}\")\n",
        "    print(\"-\" * 40)\n"
      ],
      "metadata": {
        "id": "N0mWs62NrSov"
      },
      "execution_count": null,
      "outputs": []
    }
  ]
}